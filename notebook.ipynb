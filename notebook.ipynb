{
 "cells": [
  {
   "cell_type": "markdown",
   "id": "e99b0b54",
   "metadata": {},
   "source": [
    "# 2024 California Power Sector Emissions\n",
    "**An Analysis**"
   ]
  },
  {
   "cell_type": "markdown",
   "id": "0068d83f",
   "metadata": {},
   "source": [
    "#### Author: Paul Junver Soriano"
   ]
  },
  {
   "cell_type": "markdown",
   "id": "c6d797bc",
   "metadata": {},
   "source": [
    "#### Date: March 13, 2025 *(Last Updated)*"
   ]
  },
  {
   "cell_type": "markdown",
   "id": "81a2bd86",
   "metadata": {},
   "source": [
    "## SUBMISSION 1: Proposal\n",
    "---"
   ]
  },
  {
   "cell_type": "markdown",
   "id": "1552e4e4",
   "metadata": {},
   "source": [
    "## Background"
   ]
  },
  {
   "cell_type": "markdown",
   "id": "551d04e0",
   "metadata": {},
   "source": [
    "The data is collected by the U.S. Environmental Protection Agency (EPA) Clean Air Markets Division (CAMD). \n",
    "\n",
    "The data is made available to the public as part of the agency's regulations for energy generating units (EGUs) to measure and report their emissions. EGUs must also assess their facilities, operations and must perform quality assurance on the data that they collect.\n",
    "\n",
    "The data used for this analysis is only a subset (for the year 2024, for the state of California) of the general data. As a resident of California, I am interested in learning how EGUs in the state operate and comply to standards set by the EPA. \n",
    "\n",
    "Furthermore, the California Green Energy Initiative aims for electric utilities to acquire at least 50% of their electricity from renewable resources by 2030. By analyzing this data, I hope that I can gain some insights on how some of our facilities are working towards this goal."
   ]
  },
  {
   "cell_type": "markdown",
   "id": "c2e250a9",
   "metadata": {},
   "source": [
    "#### References\n",
    "* United States Environmental Protection Agency (EPA). “Power Sector Data.” Washington, DC: Office of Atmospheric Protection, Clean Air and Power Division. Available from EPA’s Clean Air Markets Program Data website: https://campd.epa.gov.\n",
    "\n",
    "* United States Environmental Protection Agency (EPA). “Power Sector Emissions Data Guide.” Washington, DC: Office of Atmospheric Protection, Clean Air and Power Division. Available from EPA’s Clean Air Markets Program Data website: https://campd.epa.gov.\n",
    "\n",
    "* Megerian, Chris; Panzar, Javier (October 7, 2015). \"Gov. Brown signs climate change bill to spur renewable energy, efficiency standards\". *Los Angeles Times.* Retrieved March 12, 2025. https://www.latimes.com/politics/la-pol-sac-jerry-brown-climate-change-renewable-energy-20151007-story.html."
   ]
  },
  {
   "cell_type": "markdown",
   "id": "a71ea581",
   "metadata": {},
   "source": [
    "## Objective"
   ]
  },
  {
   "cell_type": "markdown",
   "id": "877d4a09",
   "metadata": {},
   "source": [
    "Some questions that I hope to answer from the data:\n",
    "1. Which facility in California had the most emissions?\n",
    "2. Which facility was the most efficient? Which unit type is the most efficient?\n",
    "3. How much of the facilities still rely on natural gas as primary source of fuel? Does the presence of a secondary fuel source reduce emissions?\n",
    "4. What gas or gases were emitted the most?"
   ]
  },
  {
   "cell_type": "markdown",
   "id": "bf2a7a76",
   "metadata": {},
   "source": [
    "## Data"
   ]
  },
  {
   "cell_type": "markdown",
   "id": "8a077ec9",
   "metadata": {},
   "source": [
    "### Dataset"
   ]
  },
  {
   "cell_type": "markdown",
   "id": "8f8b1437",
   "metadata": {},
   "source": [
    "The 2024 California Power Sector Emissions dataset consists of 240 observations, with each observation representing the annual report for each EGU facility and unit. The following data were collected for each observation:\n",
    "\n",
    "\n",
    "|    | variable                      | type                | description                                 |   \n",
    "|:--:| :--------                     | :-----:             | :------------                               |\n",
    "|  1 | `State`                       | categorical         | the state (CA)                              |\n",
    "|  2 | `Facility Name`               | categorical         | the name of the facility                    |\n",
    "|  3 | `Facility ID`                 | numeric, discrete   | the ID of the facility                      |\n",
    "|  4 | `Unit ID`                     | numeric, discrete   | the ID of the unit                          |\n",
    "|  5 | `Associated Stacks`           | categorical         | smokestacks associated with the unit        |\n",
    "|  6 | `Year`                        | numeric, discrete   | the year (2024)                             |\n",
    "|  7 | `Operating Time Count`        | numeric, discrete   | total hours of facility operation (inc. start up and shut down) |\n",
    "|  8 | `Sum of the Operating Time`   | numeric, continuous | total hours of electricity-generation operation                    |\n",
    "|  9 | `Gross Load (MWh)`            | numeric, continuous | amount of electricity produced (in MWh)     |\n",
    "| 10 | `Steam Load (1000lb)`         | numeric, continuous | amount of steam produced (in 1000lb/hr)     |\n",
    "| 11 | `SO2 Mass (short tons)`       | numeric, continuous | amount of SO2 emitted (in short tons)       |\n",
    "| 12 | `SO2 Rate (lbs/mmBtu)`        | numeric, continuous | rate of SO2 emission (in lbs/mmBtu)         |\n",
    "| 13 | `CO2 Mass (short tons)`       | numeric, continuous | amount C02 emitted (in short tons)          |\n",
    "| 14 | `CO2 Rate (short tons/mmBtu)` | numeric, continuous | rate of C02 emission (in short tons/mmBtu)  |\n",
    "| 15 | `NOx Mass (short tons)`       | numeric, continuous | amount NOx emitted (in short tons)          |\n",
    "| 16 | `NOx Rate (lbs/mmBtu)`        | numeric, continuous | rate of NOx emission (in lbs/mmBtu)         |\n",
    "| 17 | `Heat Input (mmBtu)`          | numeric, continuous | amount of heat input from burning fuel (in mmBtu)|\n",
    "| 18 | `Primary Fuel Type`           | categorical         | primary fuel used                           |\n",
    "| 19 | `Secondary Fuel Type`         | categorical         | secondary fuel used (if available)          |\n",
    "| 20 | `Unit Type`                   | categorical         | type of unit (turbine, boiler, etc.)        |\n",
    "| 21 | `SO2 Controls`                | categorical         | SO2 control device(s) used (if available)   |\n",
    "| 22 | `NOx Controls`                | categorical         | NOx control device(s) used (if available)   |\n",
    "| 23 | `PM Controls`                 | categorical         | PM control device(s) used (if available)    |\n",
    "| 24 | `Hg Controls`                 | categorical         | Hg control device(s) used (if available)    |\n",
    "| 25 | `Program Code`                | categorical         | emission control program used               |"
   ]
  },
  {
   "cell_type": "markdown",
   "id": "73ea777f",
   "metadata": {},
   "source": [
    "> *Notes:*\n",
    "> * mmBtu: metric million British thermal unit, used to measure heat\n",
    "> * SO2: Sulfur Dioxide\n",
    "> * CO2: Carbon Dioxide\n",
    "> * NOx: Nitrogen Oxides (both NO and NO2)\n",
    "> * PM: Particulate Matter (solid particles in the air)\n",
    "> * Hg: Mercury\n",
    "> * `Program Code` codes can be found in [this guide](https://www.epa.gov/system/files/documents/2022-07/CAMD%27s%20Power%20Sector%20Emissions%20Data%20Guide%20-%2007182022.pdf)"
   ]
  },
  {
   "cell_type": "markdown",
   "id": "5257b4da",
   "metadata": {},
   "source": [
    "### Data Overview"
   ]
  },
  {
   "cell_type": "code",
   "execution_count": 1,
   "id": "337a701c",
   "metadata": {},
   "outputs": [],
   "source": [
    "# Import libraries\n",
    "import numpy as np\n",
    "import pandas as pd\n",
    "import matplotlib.pyplot as plt\n",
    "import seaborn as sns"
   ]
  },
  {
   "cell_type": "code",
   "execution_count": 2,
   "id": "035c3915",
   "metadata": {},
   "outputs": [],
   "source": [
    "# Import data\n",
    "df = pd.read_csv('annual-emissions-2024-ca.csv')"
   ]
  },
  {
   "cell_type": "code",
   "execution_count": 3,
   "id": "e6b4b407",
   "metadata": {},
   "outputs": [
    {
     "data": {
      "text/html": [
       "<div>\n",
       "<style scoped>\n",
       "    .dataframe tbody tr th:only-of-type {\n",
       "        vertical-align: middle;\n",
       "    }\n",
       "\n",
       "    .dataframe tbody tr th {\n",
       "        vertical-align: top;\n",
       "    }\n",
       "\n",
       "    .dataframe thead th {\n",
       "        text-align: right;\n",
       "    }\n",
       "</style>\n",
       "<table border=\"1\" class=\"dataframe\">\n",
       "  <thead>\n",
       "    <tr style=\"text-align: right;\">\n",
       "      <th></th>\n",
       "      <th>State</th>\n",
       "      <th>Facility Name</th>\n",
       "      <th>Facility ID</th>\n",
       "      <th>Unit ID</th>\n",
       "      <th>Associated Stacks</th>\n",
       "      <th>Year</th>\n",
       "      <th>Operating Time Count</th>\n",
       "      <th>Sum of the Operating Time</th>\n",
       "      <th>Gross Load (MWh)</th>\n",
       "      <th>Steam Load (1000 lb)</th>\n",
       "      <th>...</th>\n",
       "      <th>NOx Rate (lbs/mmBtu)</th>\n",
       "      <th>Heat Input (mmBtu)</th>\n",
       "      <th>Primary Fuel Type</th>\n",
       "      <th>Secondary Fuel Type</th>\n",
       "      <th>Unit Type</th>\n",
       "      <th>SO2 Controls</th>\n",
       "      <th>NOx Controls</th>\n",
       "      <th>PM Controls</th>\n",
       "      <th>Hg Controls</th>\n",
       "      <th>Program Code</th>\n",
       "    </tr>\n",
       "  </thead>\n",
       "  <tbody>\n",
       "    <tr>\n",
       "      <th>0</th>\n",
       "      <td>CA</td>\n",
       "      <td>Moss Landing Power Plant</td>\n",
       "      <td>260</td>\n",
       "      <td>1A</td>\n",
       "      <td>NaN</td>\n",
       "      <td>2024</td>\n",
       "      <td>4926</td>\n",
       "      <td>4632.36</td>\n",
       "      <td>1057993.53</td>\n",
       "      <td>NaN</td>\n",
       "      <td>...</td>\n",
       "      <td>0.0203</td>\n",
       "      <td>7656029.272</td>\n",
       "      <td>Pipeline Natural Gas</td>\n",
       "      <td>NaN</td>\n",
       "      <td>Combined cycle</td>\n",
       "      <td>NaN</td>\n",
       "      <td>Dry Low NOx Burners|Selective Catalytic Reduction</td>\n",
       "      <td>NaN</td>\n",
       "      <td>NaN</td>\n",
       "      <td>ARP</td>\n",
       "    </tr>\n",
       "    <tr>\n",
       "      <th>1</th>\n",
       "      <td>CA</td>\n",
       "      <td>Moss Landing Power Plant</td>\n",
       "      <td>260</td>\n",
       "      <td>2A</td>\n",
       "      <td>NaN</td>\n",
       "      <td>2024</td>\n",
       "      <td>4553</td>\n",
       "      <td>4254.06</td>\n",
       "      <td>988453.85</td>\n",
       "      <td>NaN</td>\n",
       "      <td>...</td>\n",
       "      <td>0.0202</td>\n",
       "      <td>7096048.495</td>\n",
       "      <td>Pipeline Natural Gas</td>\n",
       "      <td>NaN</td>\n",
       "      <td>Combined cycle</td>\n",
       "      <td>NaN</td>\n",
       "      <td>Dry Low NOx Burners|Selective Catalytic Reduction</td>\n",
       "      <td>NaN</td>\n",
       "      <td>NaN</td>\n",
       "      <td>ARP</td>\n",
       "    </tr>\n",
       "    <tr>\n",
       "      <th>2</th>\n",
       "      <td>CA</td>\n",
       "      <td>Moss Landing Power Plant</td>\n",
       "      <td>260</td>\n",
       "      <td>3A</td>\n",
       "      <td>NaN</td>\n",
       "      <td>2024</td>\n",
       "      <td>5290</td>\n",
       "      <td>4958.61</td>\n",
       "      <td>1113582.95</td>\n",
       "      <td>NaN</td>\n",
       "      <td>...</td>\n",
       "      <td>0.0186</td>\n",
       "      <td>8092235.611</td>\n",
       "      <td>Pipeline Natural Gas</td>\n",
       "      <td>NaN</td>\n",
       "      <td>Combined cycle</td>\n",
       "      <td>NaN</td>\n",
       "      <td>Dry Low NOx Burners|Selective Catalytic Reduction</td>\n",
       "      <td>NaN</td>\n",
       "      <td>NaN</td>\n",
       "      <td>ARP</td>\n",
       "    </tr>\n",
       "    <tr>\n",
       "      <th>3</th>\n",
       "      <td>CA</td>\n",
       "      <td>Moss Landing Power Plant</td>\n",
       "      <td>260</td>\n",
       "      <td>4A</td>\n",
       "      <td>NaN</td>\n",
       "      <td>2024</td>\n",
       "      <td>4433</td>\n",
       "      <td>4123.27</td>\n",
       "      <td>952838.89</td>\n",
       "      <td>NaN</td>\n",
       "      <td>...</td>\n",
       "      <td>0.0211</td>\n",
       "      <td>6780931.376</td>\n",
       "      <td>Pipeline Natural Gas</td>\n",
       "      <td>NaN</td>\n",
       "      <td>Combined cycle</td>\n",
       "      <td>NaN</td>\n",
       "      <td>Dry Low NOx Burners|Selective Catalytic Reduction</td>\n",
       "      <td>NaN</td>\n",
       "      <td>NaN</td>\n",
       "      <td>ARP</td>\n",
       "    </tr>\n",
       "    <tr>\n",
       "      <th>4</th>\n",
       "      <td>CA</td>\n",
       "      <td>Cabrillo Power I Encina Power Station</td>\n",
       "      <td>302</td>\n",
       "      <td>10</td>\n",
       "      <td>NaN</td>\n",
       "      <td>2024</td>\n",
       "      <td>673</td>\n",
       "      <td>486.90</td>\n",
       "      <td>32986.10</td>\n",
       "      <td>NaN</td>\n",
       "      <td>...</td>\n",
       "      <td>0.0177</td>\n",
       "      <td>321746.779</td>\n",
       "      <td>Pipeline Natural Gas</td>\n",
       "      <td>NaN</td>\n",
       "      <td>Combustion turbine</td>\n",
       "      <td>NaN</td>\n",
       "      <td>Water Injection|Selective Catalytic Reduction</td>\n",
       "      <td>NaN</td>\n",
       "      <td>NaN</td>\n",
       "      <td>ARP</td>\n",
       "    </tr>\n",
       "  </tbody>\n",
       "</table>\n",
       "<p>5 rows × 25 columns</p>\n",
       "</div>"
      ],
      "text/plain": [
       "  State                          Facility Name  Facility ID Unit ID  \\\n",
       "0    CA               Moss Landing Power Plant          260      1A   \n",
       "1    CA               Moss Landing Power Plant          260      2A   \n",
       "2    CA               Moss Landing Power Plant          260      3A   \n",
       "3    CA               Moss Landing Power Plant          260      4A   \n",
       "4    CA  Cabrillo Power I Encina Power Station          302      10   \n",
       "\n",
       "  Associated Stacks  Year  Operating Time Count  Sum of the Operating Time  \\\n",
       "0               NaN  2024                  4926                    4632.36   \n",
       "1               NaN  2024                  4553                    4254.06   \n",
       "2               NaN  2024                  5290                    4958.61   \n",
       "3               NaN  2024                  4433                    4123.27   \n",
       "4               NaN  2024                   673                     486.90   \n",
       "\n",
       "   Gross Load (MWh)  Steam Load (1000 lb)  ...  NOx Rate (lbs/mmBtu)  \\\n",
       "0        1057993.53                   NaN  ...                0.0203   \n",
       "1         988453.85                   NaN  ...                0.0202   \n",
       "2        1113582.95                   NaN  ...                0.0186   \n",
       "3         952838.89                   NaN  ...                0.0211   \n",
       "4          32986.10                   NaN  ...                0.0177   \n",
       "\n",
       "   Heat Input (mmBtu)     Primary Fuel Type  Secondary Fuel Type  \\\n",
       "0         7656029.272  Pipeline Natural Gas                  NaN   \n",
       "1         7096048.495  Pipeline Natural Gas                  NaN   \n",
       "2         8092235.611  Pipeline Natural Gas                  NaN   \n",
       "3         6780931.376  Pipeline Natural Gas                  NaN   \n",
       "4          321746.779  Pipeline Natural Gas                  NaN   \n",
       "\n",
       "            Unit Type  SO2 Controls  \\\n",
       "0      Combined cycle           NaN   \n",
       "1      Combined cycle           NaN   \n",
       "2      Combined cycle           NaN   \n",
       "3      Combined cycle           NaN   \n",
       "4  Combustion turbine           NaN   \n",
       "\n",
       "                                        NOx Controls PM Controls Hg Controls  \\\n",
       "0  Dry Low NOx Burners|Selective Catalytic Reduction         NaN         NaN   \n",
       "1  Dry Low NOx Burners|Selective Catalytic Reduction         NaN         NaN   \n",
       "2  Dry Low NOx Burners|Selective Catalytic Reduction         NaN         NaN   \n",
       "3  Dry Low NOx Burners|Selective Catalytic Reduction         NaN         NaN   \n",
       "4      Water Injection|Selective Catalytic Reduction         NaN         NaN   \n",
       "\n",
       "  Program Code  \n",
       "0          ARP  \n",
       "1          ARP  \n",
       "2          ARP  \n",
       "3          ARP  \n",
       "4          ARP  \n",
       "\n",
       "[5 rows x 25 columns]"
      ]
     },
     "execution_count": 3,
     "metadata": {},
     "output_type": "execute_result"
    }
   ],
   "source": [
    "# Check what the data looks like\n",
    "df.head()"
   ]
  },
  {
   "cell_type": "code",
   "execution_count": 4,
   "id": "af4fdc96",
   "metadata": {},
   "outputs": [
    {
     "data": {
      "text/plain": [
       "(240, 25)"
      ]
     },
     "execution_count": 4,
     "metadata": {},
     "output_type": "execute_result"
    }
   ],
   "source": [
    "# Check data shape\n",
    "df.shape"
   ]
  },
  {
   "cell_type": "code",
   "execution_count": 5,
   "id": "153544db",
   "metadata": {
    "scrolled": true
   },
   "outputs": [
    {
     "name": "stdout",
     "output_type": "stream",
     "text": [
      "<class 'pandas.core.frame.DataFrame'>\n",
      "RangeIndex: 240 entries, 0 to 239\n",
      "Data columns (total 25 columns):\n",
      " #   Column                       Non-Null Count  Dtype  \n",
      "---  ------                       --------------  -----  \n",
      " 0   State                        240 non-null    object \n",
      " 1   Facility Name                240 non-null    object \n",
      " 2   Facility ID                  240 non-null    int64  \n",
      " 3   Unit ID                      240 non-null    object \n",
      " 4   Associated Stacks            2 non-null      object \n",
      " 5   Year                         240 non-null    int64  \n",
      " 6   Operating Time Count         240 non-null    int64  \n",
      " 7   Sum of the Operating Time    240 non-null    float64\n",
      " 8   Gross Load (MWh)             233 non-null    float64\n",
      " 9   Steam Load (1000 lb)         0 non-null      float64\n",
      " 10  SO2 Mass (short tons)        236 non-null    float64\n",
      " 11  SO2 Rate (lbs/mmBtu)         236 non-null    float64\n",
      " 12  CO2 Mass (short tons)        236 non-null    float64\n",
      " 13  CO2 Rate (short tons/mmBtu)  236 non-null    float64\n",
      " 14  NOx Mass (short tons)        236 non-null    float64\n",
      " 15  NOx Rate (lbs/mmBtu)         236 non-null    float64\n",
      " 16  Heat Input (mmBtu)           236 non-null    float64\n",
      " 17  Primary Fuel Type            240 non-null    object \n",
      " 18  Secondary Fuel Type          21 non-null     object \n",
      " 19  Unit Type                    240 non-null    object \n",
      " 20  SO2 Controls                 1 non-null      object \n",
      " 21  NOx Controls                 233 non-null    object \n",
      " 22  PM Controls                  1 non-null      object \n",
      " 23  Hg Controls                  0 non-null      float64\n",
      " 24  Program Code                 240 non-null    object \n",
      "dtypes: float64(11), int64(3), object(11)\n",
      "memory usage: 47.0+ KB\n"
     ]
    }
   ],
   "source": [
    "# Get data information\n",
    "df.info()"
   ]
  },
  {
   "cell_type": "markdown",
   "id": "33f98cee",
   "metadata": {},
   "source": [
    "> **Important Observations:**\n",
    "    > * `Steam Load` column is all null; all facilities listed in California under the EPA's programs do not generate steam for electricity.\n",
    "    > * `Hg Controls` columns is all null; none of the facilities have control devices for mercury."
   ]
  },
  {
   "cell_type": "markdown",
   "id": "39325376",
   "metadata": {},
   "source": [
    "### Data Cleaning"
   ]
  },
  {
   "cell_type": "markdown",
   "id": "f6e0d8d8",
   "metadata": {},
   "source": [
    "#### Cleaning the columns"
   ]
  },
  {
   "cell_type": "code",
   "execution_count": 11,
   "id": "7f3a28c3",
   "metadata": {},
   "outputs": [
    {
     "data": {
      "text/plain": [
       "['State',\n",
       " 'Facility Name',\n",
       " 'Facility ID',\n",
       " 'Unit ID',\n",
       " 'Associated Stacks',\n",
       " 'Year',\n",
       " 'Operating Time Count',\n",
       " 'Sum of the Operating Time',\n",
       " 'Gross Load (MWh)',\n",
       " 'SO2 Mass (short tons)',\n",
       " 'SO2 Rate (lbs/mmBtu)',\n",
       " 'CO2 Mass (short tons)',\n",
       " 'CO2 Rate (short tons/mmBtu)',\n",
       " 'NOx Mass (short tons)',\n",
       " 'NOx Rate (lbs/mmBtu)',\n",
       " 'Heat Input (mmBtu)',\n",
       " 'Primary Fuel Type',\n",
       " 'Secondary Fuel Type',\n",
       " 'Unit Type',\n",
       " 'SO2 Controls',\n",
       " 'NOx Controls',\n",
       " 'PM Controls',\n",
       " 'Program Code']"
      ]
     },
     "execution_count": 11,
     "metadata": {},
     "output_type": "execute_result"
    }
   ],
   "source": [
    "# From the observations gained from df.info(), we can drop the Steam Load and Hg Controls columns\n",
    "clean_df = df.drop(['Steam Load (1000 lb)', 'Hg Controls'], axis = 1)\n",
    "clean_df.columns.to_list()"
   ]
  },
  {
   "cell_type": "code",
   "execution_count": 12,
   "id": "9a07e26a",
   "metadata": {},
   "outputs": [
    {
     "name": "stdout",
     "output_type": "stream",
     "text": [
      "# of cols before: 25 \n",
      " # of cols after: 21\n"
     ]
    }
   ],
   "source": [
    "# Since this dataset is for the year 2024 and for the state of California, those columns can be dropped.\n",
    "clean_df = clean_df.drop(['Year', 'State'], axis=1)\n",
    "print(f\"# of cols before: {len(df.columns)} \\n # of cols after: {len(clean_df.columns)}\")"
   ]
  },
  {
   "cell_type": "code",
   "execution_count": 13,
   "id": "8d3400d0",
   "metadata": {},
   "outputs": [
    {
     "data": {
      "text/plain": [
       "['Facility Name',\n",
       " 'Facility ID',\n",
       " 'Unit ID',\n",
       " 'Associated Stacks',\n",
       " 'Total Operation Time',\n",
       " 'Total Production Time',\n",
       " 'Gross Load',\n",
       " 'SO2 Mass',\n",
       " 'SO2 Rate',\n",
       " 'CO2 Mass',\n",
       " 'CO2 Rate',\n",
       " 'NOx Mass',\n",
       " 'NOx Rate',\n",
       " 'Heat Input',\n",
       " 'Primary Fuel Type',\n",
       " 'Secondary Fuel Type',\n",
       " 'Unit Type',\n",
       " 'SO2 Controls',\n",
       " 'NOx Controls',\n",
       " 'PM Controls',\n",
       " 'Program Code']"
      ]
     },
     "execution_count": 13,
     "metadata": {},
     "output_type": "execute_result"
    }
   ],
   "source": [
    "# Remove units in column names, rename some columns for better readability and usability\n",
    "column_names = {\n",
    "    'Operating Time Count':'Total Operation Time',  # the time in hours the facility was open (with start up and shut down)\n",
    "    'Sum of the Operating Time':'Total Production Time', # the time in hours the facility was running/producing electricity\n",
    "    'Gross Load (MWh)':'Gross Load',\n",
    "    'Steam Load (1000 lb)':'Steam Load',\n",
    "    'SO2 Mass (short tons)':'SO2 Mass',\n",
    "    'SO2 Rate (lbs/mmBtu)':'SO2 Rate',\n",
    "    'CO2 Mass (short tons)':'CO2 Mass',\n",
    "    'CO2 Rate (short tons/mmBtu)':'CO2 Rate',\n",
    "    'NOx Mass (short tons)':'NOx Mass',\n",
    "    'NOx Rate (lbs/mmBtu)':'NOx Rate',\n",
    "    'Heat Input (mmBtu)':'Heat Input'\n",
    "}\n",
    "clean_df = clean_df.rename(columns=column_names)\n",
    "clean_df.columns.to_list()"
   ]
  },
  {
   "cell_type": "code",
   "execution_count": 15,
   "id": "692fcf4c",
   "metadata": {},
   "outputs": [
    {
     "data": {
      "text/plain": [
       "Facility Name                                     Moss Landing Power Plant\n",
       "Facility ID                                                            260\n",
       "Unit ID                                                                 2A\n",
       "Unit Type                                                   Combined cycle\n",
       "Total Operation Time                                                  4553\n",
       "Total Production Time                                              4254.06\n",
       "Gross Load                                                       988453.85\n",
       "Heat Input                                                     7096048.495\n",
       "SO2 Mass                                                             2.129\n",
       "SO2 Rate                                                             0.001\n",
       "CO2 Mass                                                        394504.585\n",
       "CO2 Rate                                                             0.065\n",
       "NOx Mass                                                            37.462\n",
       "NOx Rate                                                            0.0202\n",
       "Primary Fuel Type                                     Pipeline Natural Gas\n",
       "Secondary Fuel Type                                                    NaN\n",
       "SO2 Controls                                                           NaN\n",
       "NOx Controls             Dry Low NOx Burners|Selective Catalytic Reduction\n",
       "PM Controls                                                            NaN\n",
       "Associated Stacks                                                      NaN\n",
       "Program Code                                                           ARP\n",
       "Name: 1, dtype: object"
      ]
     },
     "execution_count": 15,
     "metadata": {},
     "output_type": "execute_result"
    }
   ],
   "source": [
    "# Reordering columns\n",
    "new_cols = ['Facility Name',\n",
    "            'Facility ID',\n",
    "            'Unit ID',\n",
    "            'Unit Type',\n",
    "            'Total Operation Time',\n",
    "            'Total Production Time',\n",
    "            'Gross Load',\n",
    "            'Heat Input',\n",
    "            'SO2 Mass',\n",
    "            'SO2 Rate',\n",
    "            'CO2 Mass',\n",
    "            'CO2 Rate',\n",
    "            'NOx Mass',\n",
    "            'NOx Rate',\n",
    "            'Primary Fuel Type',\n",
    "            'Secondary Fuel Type',\n",
    "            'SO2 Controls',\n",
    "            'NOx Controls',\n",
    "            'PM Controls',\n",
    "            'Associated Stacks',\n",
    "            'Program Code']\n",
    "clean_df = clean_df[new_cols]\n",
    "clean_df.loc[1]"
   ]
  },
  {
   "cell_type": "markdown",
   "id": "ec8094f7",
   "metadata": {},
   "source": [
    "#### Data quality check"
   ]
  },
  {
   "cell_type": "code",
   "execution_count": 21,
   "id": "31bf9813",
   "metadata": {
    "scrolled": true
   },
   "outputs": [
    {
     "data": {
      "text/plain": [
       "False    240\n",
       "Name: count, dtype: int64"
      ]
     },
     "execution_count": 21,
     "metadata": {},
     "output_type": "execute_result"
    }
   ],
   "source": [
    "# Check for duplicates\n",
    "duplicates = clean_df.duplicated()\n",
    "duplicates.value_counts()"
   ]
  },
  {
   "cell_type": "markdown",
   "id": "ebd52b4e",
   "metadata": {},
   "source": [
    "> No duplicates in the data"
   ]
  },
  {
   "cell_type": "code",
   "execution_count": 22,
   "id": "5ff63202",
   "metadata": {
    "scrolled": false
   },
   "outputs": [
    {
     "data": {
      "text/plain": [
       "Facility Name              0\n",
       "Facility ID                0\n",
       "Unit ID                    0\n",
       "Unit Type                  0\n",
       "Total Operation Time       0\n",
       "Total Production Time      0\n",
       "Gross Load                 7\n",
       "Heat Input                 4\n",
       "SO2 Mass                   4\n",
       "SO2 Rate                   4\n",
       "CO2 Mass                   4\n",
       "CO2 Rate                   4\n",
       "NOx Mass                   4\n",
       "NOx Rate                   4\n",
       "Primary Fuel Type          0\n",
       "Secondary Fuel Type      219\n",
       "SO2 Controls             239\n",
       "NOx Controls               7\n",
       "PM Controls              239\n",
       "Associated Stacks        238\n",
       "Program Code               0\n",
       "dtype: int64"
      ]
     },
     "execution_count": 22,
     "metadata": {},
     "output_type": "execute_result"
    }
   ],
   "source": [
    "# Check for other null values\n",
    "clean_df.isna().sum()"
   ]
  },
  {
   "cell_type": "code",
   "execution_count": 33,
   "id": "0ab1b403",
   "metadata": {
    "scrolled": true
   },
   "outputs": [
    {
     "data": {
      "text/html": [
       "<div>\n",
       "<style scoped>\n",
       "    .dataframe tbody tr th:only-of-type {\n",
       "        vertical-align: middle;\n",
       "    }\n",
       "\n",
       "    .dataframe tbody tr th {\n",
       "        vertical-align: top;\n",
       "    }\n",
       "\n",
       "    .dataframe thead th {\n",
       "        text-align: right;\n",
       "    }\n",
       "</style>\n",
       "<table border=\"1\" class=\"dataframe\">\n",
       "  <thead>\n",
       "    <tr style=\"text-align: right;\">\n",
       "      <th></th>\n",
       "      <th>Facility Name</th>\n",
       "      <th>Facility ID</th>\n",
       "      <th>Unit ID</th>\n",
       "      <th>Unit Type</th>\n",
       "      <th>Total Operation Time</th>\n",
       "      <th>Total Production Time</th>\n",
       "      <th>Gross Load</th>\n",
       "      <th>Heat Input</th>\n",
       "      <th>SO2 Mass</th>\n",
       "      <th>SO2 Rate</th>\n",
       "      <th>...</th>\n",
       "      <th>CO2 Rate</th>\n",
       "      <th>NOx Mass</th>\n",
       "      <th>NOx Rate</th>\n",
       "      <th>Primary Fuel Type</th>\n",
       "      <th>Secondary Fuel Type</th>\n",
       "      <th>SO2 Controls</th>\n",
       "      <th>NOx Controls</th>\n",
       "      <th>PM Controls</th>\n",
       "      <th>Associated Stacks</th>\n",
       "      <th>Program Code</th>\n",
       "    </tr>\n",
       "  </thead>\n",
       "  <tbody>\n",
       "    <tr>\n",
       "      <th>208</th>\n",
       "      <td>Ivanpah 2</td>\n",
       "      <td>57073</td>\n",
       "      <td>BLR1</td>\n",
       "      <td>Other boiler</td>\n",
       "      <td>6447</td>\n",
       "      <td>6447.0</td>\n",
       "      <td>NaN</td>\n",
       "      <td>454677.8</td>\n",
       "      <td>0.098</td>\n",
       "      <td>0.0002</td>\n",
       "      <td>...</td>\n",
       "      <td>0.0584</td>\n",
       "      <td>2.489</td>\n",
       "      <td>0.0105</td>\n",
       "      <td>Pipeline Natural Gas</td>\n",
       "      <td>NaN</td>\n",
       "      <td>NaN</td>\n",
       "      <td>NaN</td>\n",
       "      <td>NaN</td>\n",
       "      <td>NaN</td>\n",
       "      <td>ARP</td>\n",
       "    </tr>\n",
       "    <tr>\n",
       "      <th>209</th>\n",
       "      <td>Ivanpah 1</td>\n",
       "      <td>57074</td>\n",
       "      <td>BLR1</td>\n",
       "      <td>Other boiler</td>\n",
       "      <td>5103</td>\n",
       "      <td>5103.0</td>\n",
       "      <td>NaN</td>\n",
       "      <td>374094.7</td>\n",
       "      <td>0.084</td>\n",
       "      <td>0.0002</td>\n",
       "      <td>...</td>\n",
       "      <td>0.0592</td>\n",
       "      <td>2.055</td>\n",
       "      <td>0.0108</td>\n",
       "      <td>Pipeline Natural Gas</td>\n",
       "      <td>NaN</td>\n",
       "      <td>NaN</td>\n",
       "      <td>NaN</td>\n",
       "      <td>NaN</td>\n",
       "      <td>NaN</td>\n",
       "      <td>ARP</td>\n",
       "    </tr>\n",
       "    <tr>\n",
       "      <th>210</th>\n",
       "      <td>Ivanpah 3</td>\n",
       "      <td>57075</td>\n",
       "      <td>BLR1</td>\n",
       "      <td>Other boiler</td>\n",
       "      <td>7309</td>\n",
       "      <td>7309.0</td>\n",
       "      <td>NaN</td>\n",
       "      <td>449552.0</td>\n",
       "      <td>0.092</td>\n",
       "      <td>0.0002</td>\n",
       "      <td>...</td>\n",
       "      <td>0.0587</td>\n",
       "      <td>2.469</td>\n",
       "      <td>0.0108</td>\n",
       "      <td>Pipeline Natural Gas</td>\n",
       "      <td>NaN</td>\n",
       "      <td>NaN</td>\n",
       "      <td>NaN</td>\n",
       "      <td>NaN</td>\n",
       "      <td>NaN</td>\n",
       "      <td>ARP</td>\n",
       "    </tr>\n",
       "  </tbody>\n",
       "</table>\n",
       "<p>3 rows × 21 columns</p>\n",
       "</div>"
      ],
      "text/plain": [
       "    Facility Name  Facility ID Unit ID     Unit Type  Total Operation Time  \\\n",
       "208     Ivanpah 2        57073    BLR1  Other boiler                  6447   \n",
       "209     Ivanpah 1        57074    BLR1  Other boiler                  5103   \n",
       "210     Ivanpah 3        57075    BLR1  Other boiler                  7309   \n",
       "\n",
       "     Total Production Time  Gross Load  Heat Input  SO2 Mass  SO2 Rate  ...  \\\n",
       "208                 6447.0         NaN    454677.8     0.098    0.0002  ...   \n",
       "209                 5103.0         NaN    374094.7     0.084    0.0002  ...   \n",
       "210                 7309.0         NaN    449552.0     0.092    0.0002  ...   \n",
       "\n",
       "     CO2 Rate  NOx Mass  NOx Rate     Primary Fuel Type Secondary Fuel Type  \\\n",
       "208    0.0584     2.489    0.0105  Pipeline Natural Gas                 NaN   \n",
       "209    0.0592     2.055    0.0108  Pipeline Natural Gas                 NaN   \n",
       "210    0.0587     2.469    0.0108  Pipeline Natural Gas                 NaN   \n",
       "\n",
       "    SO2 Controls NOx Controls PM Controls Associated Stacks Program Code  \n",
       "208          NaN          NaN         NaN               NaN          ARP  \n",
       "209          NaN          NaN         NaN               NaN          ARP  \n",
       "210          NaN          NaN         NaN               NaN          ARP  \n",
       "\n",
       "[3 rows x 21 columns]"
      ]
     },
     "execution_count": 33,
     "metadata": {},
     "output_type": "execute_result"
    }
   ],
   "source": [
    "clean_df[clean_df['Gross Load'].isna()]"
   ]
  },
  {
   "cell_type": "markdown",
   "id": "ef85f822",
   "metadata": {},
   "source": [
    "> Some facilities and units did not report their gross load of electricity produced.\n",
    "> * Observations with no gross load but has other measurements can still be used for other analyses.\n",
    "> * Indices of observations with no gross load and other measurements: [61, 62, 63, 217]"
   ]
  },
  {
   "cell_type": "code",
   "execution_count": 31,
   "id": "9f0b2ca2",
   "metadata": {},
   "outputs": [],
   "source": [
    "no_reports = [61, 62, 63, 217]\n",
    "clean_df = clean_df.drop(no_reports)"
   ]
  },
  {
   "cell_type": "code",
   "execution_count": 36,
   "id": "e44783cf",
   "metadata": {},
   "outputs": [
    {
     "data": {
      "text/plain": [
       "Facility Name              0\n",
       "Facility ID                0\n",
       "Unit ID                    0\n",
       "Unit Type                  0\n",
       "Total Operation Time       0\n",
       "Total Production Time      0\n",
       "Gross Load                 3\n",
       "Heat Input                 0\n",
       "SO2 Mass                   0\n",
       "SO2 Rate                   0\n",
       "CO2 Mass                   0\n",
       "CO2 Rate                   0\n",
       "NOx Mass                   0\n",
       "NOx Rate                   0\n",
       "Primary Fuel Type          0\n",
       "Secondary Fuel Type      215\n",
       "SO2 Controls             235\n",
       "NOx Controls               7\n",
       "PM Controls              235\n",
       "Associated Stacks        234\n",
       "Program Code               0\n",
       "dtype: int64"
      ]
     },
     "execution_count": 36,
     "metadata": {},
     "output_type": "execute_result"
    }
   ],
   "source": [
    "# Recheck for null values\n",
    "clean_df.isna().sum()"
   ]
  },
  {
   "cell_type": "markdown",
   "id": "5e2f0271",
   "metadata": {},
   "source": [
    "#### Changing data types"
   ]
  },
  {
   "cell_type": "code",
   "execution_count": 23,
   "id": "2764963b",
   "metadata": {
    "scrolled": true
   },
   "outputs": [
    {
     "data": {
      "text/plain": [
       "Unit Type\n",
       "Combustion turbine              132\n",
       "Combined cycle                   91\n",
       "Dry bottom wall-fired boiler     11\n",
       "Other boiler                      3\n",
       "Tangentially-fired                2\n",
       "Stoker                            1\n",
       "Name: count, dtype: int64"
      ]
     },
     "execution_count": 23,
     "metadata": {},
     "output_type": "execute_result"
    }
   ],
   "source": [
    "clean_df['Unit Type'].value_counts()"
   ]
  },
  {
   "cell_type": "code",
   "execution_count": 24,
   "id": "291fc41d",
   "metadata": {},
   "outputs": [
    {
     "data": {
      "text/plain": [
       "Index(['Combined cycle', 'Combustion turbine', 'Dry bottom wall-fired boiler',\n",
       "       'Other boiler', 'Stoker', 'Tangentially-fired'],\n",
       "      dtype='object')"
      ]
     },
     "execution_count": 24,
     "metadata": {},
     "output_type": "execute_result"
    }
   ],
   "source": [
    "# Change Unit Type into a categorical type\n",
    "clean_df['Unit Type'] = df['Unit Type'].astype('category')\n",
    "clean_df['Unit Type'].cat.categories"
   ]
  },
  {
   "cell_type": "code",
   "execution_count": 34,
   "id": "83539de0",
   "metadata": {},
   "outputs": [
    {
     "data": {
      "text/plain": [
       "Index(['Natural Gas', 'Other Gas', 'Pipeline Natural Gas', 'Wood'], dtype='object')"
      ]
     },
     "execution_count": 34,
     "metadata": {},
     "output_type": "execute_result"
    }
   ],
   "source": [
    "# Change Primary Fuel Type into a categorical type\n",
    "clean_df['Primary Fuel Type'] = df['Primary Fuel Type'].astype('category')\n",
    "clean_df['Primary Fuel Type'].cat.categories"
   ]
  },
  {
   "cell_type": "code",
   "execution_count": 35,
   "id": "c3f5e548",
   "metadata": {},
   "outputs": [
    {
     "data": {
      "text/plain": [
       "Index(['Diesel Oil', 'Other Gas', 'Residual Oil'], dtype='object')"
      ]
     },
     "execution_count": 35,
     "metadata": {},
     "output_type": "execute_result"
    }
   ],
   "source": [
    "# Change Primary Fuel Type into a categorical type\n",
    "clean_df['Secondary Fuel Type'] = df['Secondary Fuel Type'].astype('category')\n",
    "clean_df['Secondary Fuel Type'].cat.categories"
   ]
  },
  {
   "cell_type": "markdown",
   "id": "e763a306",
   "metadata": {},
   "source": [
    "___"
   ]
  },
  {
   "cell_type": "markdown",
   "id": "7ba371bd",
   "metadata": {},
   "source": [
    "#### Data distributions and initial visualizations"
   ]
  },
  {
   "cell_type": "code",
   "execution_count": 37,
   "id": "1e145e65",
   "metadata": {
    "scrolled": false
   },
   "outputs": [
    {
     "data": {
      "text/html": [
       "<div>\n",
       "<style scoped>\n",
       "    .dataframe tbody tr th:only-of-type {\n",
       "        vertical-align: middle;\n",
       "    }\n",
       "\n",
       "    .dataframe tbody tr th {\n",
       "        vertical-align: top;\n",
       "    }\n",
       "\n",
       "    .dataframe thead th {\n",
       "        text-align: right;\n",
       "    }\n",
       "</style>\n",
       "<table border=\"1\" class=\"dataframe\">\n",
       "  <thead>\n",
       "    <tr style=\"text-align: right;\">\n",
       "      <th></th>\n",
       "      <th>Facility ID</th>\n",
       "      <th>Total Operation Time</th>\n",
       "      <th>Total Production Time</th>\n",
       "      <th>Gross Load</th>\n",
       "      <th>Heat Input</th>\n",
       "      <th>SO2 Mass</th>\n",
       "      <th>SO2 Rate</th>\n",
       "      <th>CO2 Mass</th>\n",
       "      <th>CO2 Rate</th>\n",
       "      <th>NOx Mass</th>\n",
       "      <th>NOx Rate</th>\n",
       "    </tr>\n",
       "  </thead>\n",
       "  <tbody>\n",
       "    <tr>\n",
       "      <th>count</th>\n",
       "      <td>236.000000</td>\n",
       "      <td>236.000000</td>\n",
       "      <td>236.000000</td>\n",
       "      <td>2.330000e+02</td>\n",
       "      <td>2.360000e+02</td>\n",
       "      <td>236.000000</td>\n",
       "      <td>236.000000</td>\n",
       "      <td>236.000000</td>\n",
       "      <td>236.000000</td>\n",
       "      <td>236.000000</td>\n",
       "      <td>236.000000</td>\n",
       "    </tr>\n",
       "    <tr>\n",
       "      <th>mean</th>\n",
       "      <td>36133.809322</td>\n",
       "      <td>2166.199153</td>\n",
       "      <td>2062.834661</td>\n",
       "      <td>3.180573e+05</td>\n",
       "      <td>2.345048e+06</td>\n",
       "      <td>0.705911</td>\n",
       "      <td>0.001093</td>\n",
       "      <td>139726.923377</td>\n",
       "      <td>0.059397</td>\n",
       "      <td>9.353343</td>\n",
       "      <td>0.020652</td>\n",
       "    </tr>\n",
       "    <tr>\n",
       "      <th>std</th>\n",
       "      <td>25978.253354</td>\n",
       "      <td>2356.691709</td>\n",
       "      <td>2357.308047</td>\n",
       "      <td>4.932627e+05</td>\n",
       "      <td>3.470220e+06</td>\n",
       "      <td>1.040168</td>\n",
       "      <td>0.001697</td>\n",
       "      <td>206953.102536</td>\n",
       "      <td>0.002984</td>\n",
       "      <td>13.768479</td>\n",
       "      <td>0.020726</td>\n",
       "    </tr>\n",
       "    <tr>\n",
       "      <th>min</th>\n",
       "      <td>260.000000</td>\n",
       "      <td>1.000000</td>\n",
       "      <td>1.000000</td>\n",
       "      <td>0.000000e+00</td>\n",
       "      <td>1.332000e+02</td>\n",
       "      <td>0.000000</td>\n",
       "      <td>0.000200</td>\n",
       "      <td>7.800000</td>\n",
       "      <td>0.058000</td>\n",
       "      <td>0.001000</td>\n",
       "      <td>0.001600</td>\n",
       "    </tr>\n",
       "    <tr>\n",
       "      <th>25%</th>\n",
       "      <td>418.500000</td>\n",
       "      <td>351.250000</td>\n",
       "      <td>270.582500</td>\n",
       "      <td>1.151914e+04</td>\n",
       "      <td>1.159282e+05</td>\n",
       "      <td>0.035000</td>\n",
       "      <td>0.001000</td>\n",
       "      <td>6867.950750</td>\n",
       "      <td>0.059000</td>\n",
       "      <td>0.815500</td>\n",
       "      <td>0.009700</td>\n",
       "    </tr>\n",
       "    <tr>\n",
       "      <th>50%</th>\n",
       "      <td>55511.000000</td>\n",
       "      <td>861.000000</td>\n",
       "      <td>708.575000</td>\n",
       "      <td>4.836199e+04</td>\n",
       "      <td>4.442025e+05</td>\n",
       "      <td>0.126500</td>\n",
       "      <td>0.001000</td>\n",
       "      <td>26291.411000</td>\n",
       "      <td>0.059100</td>\n",
       "      <td>1.875500</td>\n",
       "      <td>0.014850</td>\n",
       "    </tr>\n",
       "    <tr>\n",
       "      <th>75%</th>\n",
       "      <td>56298.000000</td>\n",
       "      <td>4092.500000</td>\n",
       "      <td>3885.827500</td>\n",
       "      <td>4.575571e+05</td>\n",
       "      <td>3.554800e+06</td>\n",
       "      <td>1.066500</td>\n",
       "      <td>0.001000</td>\n",
       "      <td>211255.355000</td>\n",
       "      <td>0.059300</td>\n",
       "      <td>14.158750</td>\n",
       "      <td>0.021925</td>\n",
       "    </tr>\n",
       "    <tr>\n",
       "      <th>max</th>\n",
       "      <td>60698.000000</td>\n",
       "      <td>8328.000000</td>\n",
       "      <td>8323.190000</td>\n",
       "      <td>1.984036e+06</td>\n",
       "      <td>1.364977e+07</td>\n",
       "      <td>4.095000</td>\n",
       "      <td>0.027000</td>\n",
       "      <td>823774.862000</td>\n",
       "      <td>0.103100</td>\n",
       "      <td>106.832000</td>\n",
       "      <td>0.173700</td>\n",
       "    </tr>\n",
       "  </tbody>\n",
       "</table>\n",
       "</div>"
      ],
      "text/plain": [
       "        Facility ID  Total Operation Time  Total Production Time  \\\n",
       "count    236.000000            236.000000             236.000000   \n",
       "mean   36133.809322           2166.199153            2062.834661   \n",
       "std    25978.253354           2356.691709            2357.308047   \n",
       "min      260.000000              1.000000               1.000000   \n",
       "25%      418.500000            351.250000             270.582500   \n",
       "50%    55511.000000            861.000000             708.575000   \n",
       "75%    56298.000000           4092.500000            3885.827500   \n",
       "max    60698.000000           8328.000000            8323.190000   \n",
       "\n",
       "         Gross Load    Heat Input    SO2 Mass    SO2 Rate       CO2 Mass  \\\n",
       "count  2.330000e+02  2.360000e+02  236.000000  236.000000     236.000000   \n",
       "mean   3.180573e+05  2.345048e+06    0.705911    0.001093  139726.923377   \n",
       "std    4.932627e+05  3.470220e+06    1.040168    0.001697  206953.102536   \n",
       "min    0.000000e+00  1.332000e+02    0.000000    0.000200       7.800000   \n",
       "25%    1.151914e+04  1.159282e+05    0.035000    0.001000    6867.950750   \n",
       "50%    4.836199e+04  4.442025e+05    0.126500    0.001000   26291.411000   \n",
       "75%    4.575571e+05  3.554800e+06    1.066500    0.001000  211255.355000   \n",
       "max    1.984036e+06  1.364977e+07    4.095000    0.027000  823774.862000   \n",
       "\n",
       "         CO2 Rate    NOx Mass    NOx Rate  \n",
       "count  236.000000  236.000000  236.000000  \n",
       "mean     0.059397    9.353343    0.020652  \n",
       "std      0.002984   13.768479    0.020726  \n",
       "min      0.058000    0.001000    0.001600  \n",
       "25%      0.059000    0.815500    0.009700  \n",
       "50%      0.059100    1.875500    0.014850  \n",
       "75%      0.059300   14.158750    0.021925  \n",
       "max      0.103100  106.832000    0.173700  "
      ]
     },
     "execution_count": 37,
     "metadata": {},
     "output_type": "execute_result"
    }
   ],
   "source": [
    "# Check dataframe distributions\n",
    "clean_df.describe()"
   ]
  },
  {
   "cell_type": "code",
   "execution_count": 43,
   "id": "351f9f9c",
   "metadata": {
    "scrolled": false
   },
   "outputs": [
    {
     "data": {
      "text/plain": [
       "<Figure size 800x1000 with 0 Axes>"
      ]
     },
     "metadata": {},
     "output_type": "display_data"
    },
    {
     "data": {
      "image/png": "[encoded data removed]",
      "text/plain": [
       "<Figure size 640x480 with 12 Axes>"
      ]
     },
     "metadata": {},
     "output_type": "display_data"
    }
   ],
   "source": [
    "# Visualize distributions\n",
    "plt.figure(figsize=(8, 10))\n",
    "clean_df.hist()\n",
    "plt.tight_layout()\n",
    "plt.show()"
   ]
  },
  {
   "cell_type": "code",
   "execution_count": 44,
   "id": "b317433b",
   "metadata": {},
   "outputs": [
    {
     "data": {
      "text/plain": [
       "<Axes: >"
      ]
     },
     "execution_count": 44,
     "metadata": {},
     "output_type": "execute_result"
    },
    {
     "data": {
      "image/png": "[encoded data removed]",
      "text/plain": [
       "<Figure size 640x480 with 2 Axes>"
      ]
     },
     "metadata": {},
     "output_type": "display_data"
    }
   ],
   "source": [
    "# Check variable correlations (for numeric variables)\n",
    "sns.heatmap(cleandf.corr(numeric_only=True), cmap='coolwarm')"
   ]
  },
  {
   "cell_type": "markdown",
   "id": "bfa450f4",
   "metadata": {},
   "source": [
    "___\n",
    "## SUBMISSION 2: Exploratory Data Analysis (EDA)"
   ]
  },
  {
   "cell_type": "markdown",
   "id": "e10ecf55",
   "metadata": {},
   "source": [
    "## SUBMISSION 2: Hypothesis Testing"
   ]
  },
  {
   "cell_type": "code",
   "execution_count": null,
   "id": "f2a14a9f",
   "metadata": {},
   "outputs": [],
   "source": []
  }
 ],
 "metadata": {
  "kernelspec": {
   "display_name": "Python 3 (ipykernel)",
   "language": "python",
   "name": "python3"
  },
  "language_info": {
   "codemirror_mode": {
    "name": "ipython",
    "version": 3
   },
   "file_extension": ".py",
   "mimetype": "text/x-python",
   "name": "python",
   "nbconvert_exporter": "python",
   "pygments_lexer": "ipython3",
   "version": "3.10.16"
  }
 },
 "nbformat": 4,
 "nbformat_minor": 5
}
