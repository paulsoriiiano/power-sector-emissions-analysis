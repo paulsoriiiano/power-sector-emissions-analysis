{
 "cells": [
  {
   "cell_type": "markdown",
   "id": "e99b0b54",
   "metadata": {},
   "source": [
    "# Analysis on Sleep Health and Lifestyle Dataset"
   ]
  },
  {
   "cell_type": "markdown",
   "id": "0068d83f",
   "metadata": {},
   "source": [
    "#### Author: Paul Junver Soriano"
   ]
  },
  {
   "cell_type": "markdown",
   "id": "c6d797bc",
   "metadata": {},
   "source": [
    "#### Date: March 11, 2025 *(Last Updated)*"
   ]
  },
  {
   "cell_type": "markdown",
   "id": "1552e4e4",
   "metadata": {},
   "source": [
    "## Introduction"
   ]
  },
  {
   "cell_type": "markdown",
   "id": "a71ea581",
   "metadata": {},
   "source": [
    "## Objective"
   ]
  },
  {
   "cell_type": "markdown",
   "id": "bf2a7a76",
   "metadata": {},
   "source": [
    "## Data"
   ]
  },
  {
   "cell_type": "markdown",
   "id": "8a077ec9",
   "metadata": {},
   "source": [
    "### Dataset"
   ]
  },
  {
   "cell_type": "markdown",
   "id": "5257b4da",
   "metadata": {},
   "source": [
    "### Data Overview"
   ]
  },
  {
   "cell_type": "code",
   "execution_count": 2,
   "id": "337a701c",
   "metadata": {},
   "outputs": [],
   "source": [
    "# Import libraries\n",
    "import numpy as np\n",
    "import pandas as pd\n",
    "import matplotlib.pyplot as plt\n",
    "import seaborn as sns"
   ]
  },
  {
   "cell_type": "code",
   "execution_count": 3,
   "id": "035c3915",
   "metadata": {},
   "outputs": [],
   "source": [
    "# Import data\n",
    "df = pd.read_csv('sleep_health_lifestyle_dataset.csv')"
   ]
  },
  {
   "cell_type": "code",
   "execution_count": 4,
   "id": "e6b4b407",
   "metadata": {},
   "outputs": [
    {
     "data": {
      "text/html": [
       "<div>\n",
       "<style scoped>\n",
       "    .dataframe tbody tr th:only-of-type {\n",
       "        vertical-align: middle;\n",
       "    }\n",
       "\n",
       "    .dataframe tbody tr th {\n",
       "        vertical-align: top;\n",
       "    }\n",
       "\n",
       "    .dataframe thead th {\n",
       "        text-align: right;\n",
       "    }\n",
       "</style>\n",
       "<table border=\"1\" class=\"dataframe\">\n",
       "  <thead>\n",
       "    <tr style=\"text-align: right;\">\n",
       "      <th></th>\n",
       "      <th>Person ID</th>\n",
       "      <th>Gender</th>\n",
       "      <th>Age</th>\n",
       "      <th>Occupation</th>\n",
       "      <th>Sleep Duration (hours)</th>\n",
       "      <th>Quality of Sleep (scale: 1-10)</th>\n",
       "      <th>Physical Activity Level (minutes/day)</th>\n",
       "      <th>Stress Level (scale: 1-10)</th>\n",
       "      <th>BMI Category</th>\n",
       "      <th>Blood Pressure (systolic/diastolic)</th>\n",
       "      <th>Heart Rate (bpm)</th>\n",
       "      <th>Daily Steps</th>\n",
       "      <th>Sleep Disorder</th>\n",
       "    </tr>\n",
       "  </thead>\n",
       "  <tbody>\n",
       "    <tr>\n",
       "      <th>0</th>\n",
       "      <td>1</td>\n",
       "      <td>Male</td>\n",
       "      <td>29</td>\n",
       "      <td>Manual Labor</td>\n",
       "      <td>7.4</td>\n",
       "      <td>7.0</td>\n",
       "      <td>41</td>\n",
       "      <td>7</td>\n",
       "      <td>Obese</td>\n",
       "      <td>124/70</td>\n",
       "      <td>91</td>\n",
       "      <td>8539</td>\n",
       "      <td>NaN</td>\n",
       "    </tr>\n",
       "    <tr>\n",
       "      <th>1</th>\n",
       "      <td>2</td>\n",
       "      <td>Female</td>\n",
       "      <td>43</td>\n",
       "      <td>Retired</td>\n",
       "      <td>4.2</td>\n",
       "      <td>4.9</td>\n",
       "      <td>41</td>\n",
       "      <td>5</td>\n",
       "      <td>Obese</td>\n",
       "      <td>131/86</td>\n",
       "      <td>81</td>\n",
       "      <td>18754</td>\n",
       "      <td>NaN</td>\n",
       "    </tr>\n",
       "    <tr>\n",
       "      <th>2</th>\n",
       "      <td>3</td>\n",
       "      <td>Male</td>\n",
       "      <td>44</td>\n",
       "      <td>Retired</td>\n",
       "      <td>6.1</td>\n",
       "      <td>6.0</td>\n",
       "      <td>107</td>\n",
       "      <td>4</td>\n",
       "      <td>Underweight</td>\n",
       "      <td>122/70</td>\n",
       "      <td>81</td>\n",
       "      <td>2857</td>\n",
       "      <td>NaN</td>\n",
       "    </tr>\n",
       "    <tr>\n",
       "      <th>3</th>\n",
       "      <td>4</td>\n",
       "      <td>Male</td>\n",
       "      <td>29</td>\n",
       "      <td>Office Worker</td>\n",
       "      <td>8.3</td>\n",
       "      <td>10.0</td>\n",
       "      <td>20</td>\n",
       "      <td>10</td>\n",
       "      <td>Obese</td>\n",
       "      <td>124/72</td>\n",
       "      <td>55</td>\n",
       "      <td>6886</td>\n",
       "      <td>NaN</td>\n",
       "    </tr>\n",
       "    <tr>\n",
       "      <th>4</th>\n",
       "      <td>5</td>\n",
       "      <td>Male</td>\n",
       "      <td>67</td>\n",
       "      <td>Retired</td>\n",
       "      <td>9.1</td>\n",
       "      <td>9.5</td>\n",
       "      <td>19</td>\n",
       "      <td>4</td>\n",
       "      <td>Overweight</td>\n",
       "      <td>133/78</td>\n",
       "      <td>97</td>\n",
       "      <td>14945</td>\n",
       "      <td>Insomnia</td>\n",
       "    </tr>\n",
       "  </tbody>\n",
       "</table>\n",
       "</div>"
      ],
      "text/plain": [
       "   Person ID  Gender  Age     Occupation  Sleep Duration (hours)  \\\n",
       "0          1    Male   29   Manual Labor                     7.4   \n",
       "1          2  Female   43        Retired                     4.2   \n",
       "2          3    Male   44        Retired                     6.1   \n",
       "3          4    Male   29  Office Worker                     8.3   \n",
       "4          5    Male   67        Retired                     9.1   \n",
       "\n",
       "   Quality of Sleep (scale: 1-10)  Physical Activity Level (minutes/day)  \\\n",
       "0                             7.0                                     41   \n",
       "1                             4.9                                     41   \n",
       "2                             6.0                                    107   \n",
       "3                            10.0                                     20   \n",
       "4                             9.5                                     19   \n",
       "\n",
       "   Stress Level (scale: 1-10) BMI Category  \\\n",
       "0                           7        Obese   \n",
       "1                           5        Obese   \n",
       "2                           4  Underweight   \n",
       "3                          10        Obese   \n",
       "4                           4   Overweight   \n",
       "\n",
       "  Blood Pressure (systolic/diastolic)  Heart Rate (bpm)  Daily Steps  \\\n",
       "0                              124/70                91         8539   \n",
       "1                              131/86                81        18754   \n",
       "2                              122/70                81         2857   \n",
       "3                              124/72                55         6886   \n",
       "4                              133/78                97        14945   \n",
       "\n",
       "  Sleep Disorder  \n",
       "0            NaN  \n",
       "1            NaN  \n",
       "2            NaN  \n",
       "3            NaN  \n",
       "4       Insomnia  "
      ]
     },
     "execution_count": 4,
     "metadata": {},
     "output_type": "execute_result"
    }
   ],
   "source": [
    "# Check what the data looks like\n",
    "df.head()"
   ]
  },
  {
   "cell_type": "code",
   "execution_count": 5,
   "id": "af4fdc96",
   "metadata": {},
   "outputs": [
    {
     "data": {
      "text/plain": [
       "(400, 13)"
      ]
     },
     "execution_count": 5,
     "metadata": {},
     "output_type": "execute_result"
    }
   ],
   "source": [
    "# Check data shape\n",
    "df.shape"
   ]
  },
  {
   "cell_type": "code",
   "execution_count": 57,
   "id": "153544db",
   "metadata": {
    "scrolled": true
   },
   "outputs": [
    {
     "name": "stdout",
     "output_type": "stream",
     "text": [
      "<class 'pandas.core.frame.DataFrame'>\n",
      "RangeIndex: 400 entries, 0 to 399\n",
      "Data columns (total 13 columns):\n",
      " #   Column                   Non-Null Count  Dtype  \n",
      "---  ------                   --------------  -----  \n",
      " 0   Person ID                400 non-null    int64  \n",
      " 1   Gender                   400 non-null    object \n",
      " 2   Age                      400 non-null    int64  \n",
      " 3   Occupation               400 non-null    object \n",
      " 4   Sleep Duration           400 non-null    float64\n",
      " 5   Sleep Quality            400 non-null    float64\n",
      " 6   Daily Physical Activity  400 non-null    int64  \n",
      " 7   Stress Level             400 non-null    int64  \n",
      " 8   BMI                      400 non-null    object \n",
      " 9   Blood Pressure           400 non-null    object \n",
      " 10  Heart Rate               400 non-null    int64  \n",
      " 11  Daily Steps              400 non-null    int64  \n",
      " 12  Sleep Disorder           110 non-null    object \n",
      "dtypes: float64(2), int64(6), object(5)\n",
      "memory usage: 40.8+ KB\n"
     ]
    }
   ],
   "source": [
    "# Get data information\n",
    "df.info()"
   ]
  },
  {
   "cell_type": "code",
   "execution_count": 49,
   "id": "e58fca70",
   "metadata": {},
   "outputs": [],
   "source": [
    "# Renaming some columns for readability\n",
    "df.rename(columns={\n",
    "    'Sleep Duration (hours)': 'Sleep Duration',\n",
    "    'Quality of Sleep (scale: 1-10)': 'Sleep Quality',\n",
    "    'Physical Activity Level (minutes/day)': 'Daily Physical Activity',\n",
    "    'Stress Level (scale: 1-10)': 'Stress Level',\n",
    "    'BMI Category': 'BMI',\n",
    "    'Blood Pressure (systolic/diastolic)': 'Blood Pressure',\n",
    "    'Heart Rate (bpm)': 'Heart Rate'\n",
    "}, inplace=True)"
   ]
  },
  {
   "cell_type": "code",
   "execution_count": 51,
   "id": "1e145e65",
   "metadata": {
    "scrolled": true
   },
   "outputs": [
    {
     "data": {
      "text/html": [
       "<div>\n",
       "<style scoped>\n",
       "    .dataframe tbody tr th:only-of-type {\n",
       "        vertical-align: middle;\n",
       "    }\n",
       "\n",
       "    .dataframe tbody tr th {\n",
       "        vertical-align: top;\n",
       "    }\n",
       "\n",
       "    .dataframe thead th {\n",
       "        text-align: right;\n",
       "    }\n",
       "</style>\n",
       "<table border=\"1\" class=\"dataframe\">\n",
       "  <thead>\n",
       "    <tr style=\"text-align: right;\">\n",
       "      <th></th>\n",
       "      <th>Person ID</th>\n",
       "      <th>Age</th>\n",
       "      <th>Sleep Duration</th>\n",
       "      <th>Sleep Quality</th>\n",
       "      <th>Daily Physical Activity</th>\n",
       "      <th>Stress Level</th>\n",
       "      <th>Heart Rate</th>\n",
       "      <th>Daily Steps</th>\n",
       "    </tr>\n",
       "  </thead>\n",
       "  <tbody>\n",
       "    <tr>\n",
       "      <th>count</th>\n",
       "      <td>400.000000</td>\n",
       "      <td>400.000000</td>\n",
       "      <td>400.000000</td>\n",
       "      <td>400.000000</td>\n",
       "      <td>400.000000</td>\n",
       "      <td>400.00000</td>\n",
       "      <td>400.000000</td>\n",
       "      <td>400.000000</td>\n",
       "    </tr>\n",
       "    <tr>\n",
       "      <th>mean</th>\n",
       "      <td>200.500000</td>\n",
       "      <td>39.950000</td>\n",
       "      <td>8.041250</td>\n",
       "      <td>6.125750</td>\n",
       "      <td>64.985000</td>\n",
       "      <td>5.47250</td>\n",
       "      <td>75.990000</td>\n",
       "      <td>11076.510000</td>\n",
       "    </tr>\n",
       "    <tr>\n",
       "      <th>std</th>\n",
       "      <td>115.614301</td>\n",
       "      <td>14.038883</td>\n",
       "      <td>2.390787</td>\n",
       "      <td>1.975733</td>\n",
       "      <td>32.297874</td>\n",
       "      <td>2.80873</td>\n",
       "      <td>15.099334</td>\n",
       "      <td>5364.789364</td>\n",
       "    </tr>\n",
       "    <tr>\n",
       "      <th>min</th>\n",
       "      <td>1.000000</td>\n",
       "      <td>18.000000</td>\n",
       "      <td>4.100000</td>\n",
       "      <td>1.000000</td>\n",
       "      <td>10.000000</td>\n",
       "      <td>1.00000</td>\n",
       "      <td>50.000000</td>\n",
       "      <td>2067.000000</td>\n",
       "    </tr>\n",
       "    <tr>\n",
       "      <th>25%</th>\n",
       "      <td>100.750000</td>\n",
       "      <td>29.000000</td>\n",
       "      <td>5.900000</td>\n",
       "      <td>4.700000</td>\n",
       "      <td>35.000000</td>\n",
       "      <td>3.00000</td>\n",
       "      <td>63.000000</td>\n",
       "      <td>6165.250000</td>\n",
       "    </tr>\n",
       "    <tr>\n",
       "      <th>50%</th>\n",
       "      <td>200.500000</td>\n",
       "      <td>40.000000</td>\n",
       "      <td>8.200000</td>\n",
       "      <td>6.100000</td>\n",
       "      <td>65.500000</td>\n",
       "      <td>5.00000</td>\n",
       "      <td>77.000000</td>\n",
       "      <td>11785.500000</td>\n",
       "    </tr>\n",
       "    <tr>\n",
       "      <th>75%</th>\n",
       "      <td>300.250000</td>\n",
       "      <td>49.000000</td>\n",
       "      <td>10.125000</td>\n",
       "      <td>7.425000</td>\n",
       "      <td>94.000000</td>\n",
       "      <td>8.00000</td>\n",
       "      <td>90.000000</td>\n",
       "      <td>15878.000000</td>\n",
       "    </tr>\n",
       "    <tr>\n",
       "      <th>max</th>\n",
       "      <td>400.000000</td>\n",
       "      <td>90.000000</td>\n",
       "      <td>12.000000</td>\n",
       "      <td>10.000000</td>\n",
       "      <td>120.000000</td>\n",
       "      <td>10.00000</td>\n",
       "      <td>100.000000</td>\n",
       "      <td>19958.000000</td>\n",
       "    </tr>\n",
       "  </tbody>\n",
       "</table>\n",
       "</div>"
      ],
      "text/plain": [
       "        Person ID         Age  Sleep Duration  Sleep Quality  \\\n",
       "count  400.000000  400.000000      400.000000     400.000000   \n",
       "mean   200.500000   39.950000        8.041250       6.125750   \n",
       "std    115.614301   14.038883        2.390787       1.975733   \n",
       "min      1.000000   18.000000        4.100000       1.000000   \n",
       "25%    100.750000   29.000000        5.900000       4.700000   \n",
       "50%    200.500000   40.000000        8.200000       6.100000   \n",
       "75%    300.250000   49.000000       10.125000       7.425000   \n",
       "max    400.000000   90.000000       12.000000      10.000000   \n",
       "\n",
       "       Daily Physical Activity  Stress Level  Heart Rate   Daily Steps  \n",
       "count               400.000000     400.00000  400.000000    400.000000  \n",
       "mean                 64.985000       5.47250   75.990000  11076.510000  \n",
       "std                  32.297874       2.80873   15.099334   5364.789364  \n",
       "min                  10.000000       1.00000   50.000000   2067.000000  \n",
       "25%                  35.000000       3.00000   63.000000   6165.250000  \n",
       "50%                  65.500000       5.00000   77.000000  11785.500000  \n",
       "75%                  94.000000       8.00000   90.000000  15878.000000  \n",
       "max                 120.000000      10.00000  100.000000  19958.000000  "
      ]
     },
     "execution_count": 51,
     "metadata": {},
     "output_type": "execute_result"
    }
   ],
   "source": [
    "# Check dataframe distributions\n",
    "df.describe()"
   ]
  },
  {
   "cell_type": "code",
   "execution_count": 53,
   "id": "351f9f9c",
   "metadata": {},
   "outputs": [
    {
     "data": {
      "text/plain": [
       "<Figure size 1000x500 with 0 Axes>"
      ]
     },
     "metadata": {},
     "output_type": "display_data"
    },
    {
     "data": {
      "image/png": "[encoded data removed]",
      "text/plain": [
       "<Figure size 640x480 with 9 Axes>"
      ]
     },
     "metadata": {},
     "output_type": "display_data"
    }
   ],
   "source": [
    "# Visualize distributions\n",
    "plt.figure(figsize=(10, 5))\n",
    "df.hist()\n",
    "plt.tight_layout()\n",
    "plt.show()"
   ]
  },
  {
   "cell_type": "code",
   "execution_count": 54,
   "id": "b317433b",
   "metadata": {},
   "outputs": [
    {
     "data": {
      "text/plain": [
       "<Axes: >"
      ]
     },
     "execution_count": 54,
     "metadata": {},
     "output_type": "execute_result"
    },
    {
     "data": {
      "image/png": "[encoded data removed]",
      "text/plain": [
       "<Figure size 640x480 with 2 Axes>"
      ]
     },
     "metadata": {},
     "output_type": "display_data"
    }
   ],
   "source": [
    "# Check variable correlations (for numeric variables)\n",
    "sns.heatmap(df.corr(numeric_only=True), cmap='coolwarm')"
   ]
  },
  {
   "cell_type": "markdown",
   "id": "39325376",
   "metadata": {},
   "source": [
    "### Data Cleaning"
   ]
  },
  {
   "cell_type": "code",
   "execution_count": 50,
   "id": "5ff63202",
   "metadata": {},
   "outputs": [
    {
     "data": {
      "text/plain": [
       "Person ID                    0\n",
       "Gender                       0\n",
       "Age                          0\n",
       "Occupation                   0\n",
       "Sleep Duration               0\n",
       "Sleep Quality                0\n",
       "Daily Physical Activity      0\n",
       "Stress Level                 0\n",
       "BMI                          0\n",
       "Blood Pressure               0\n",
       "Heart Rate                   0\n",
       "Daily Steps                  0\n",
       "Sleep Disorder             290\n",
       "dtype: int64"
      ]
     },
     "execution_count": 50,
     "metadata": {},
     "output_type": "execute_result"
    }
   ],
   "source": [
    "# Check for null values\n",
    "df.isna().sum()"
   ]
  },
  {
   "cell_type": "code",
   "execution_count": null,
   "id": "3e3ff55a",
   "metadata": {},
   "outputs": [],
   "source": []
  },
  {
   "cell_type": "code",
   "execution_count": null,
   "id": "4a363a5c",
   "metadata": {},
   "outputs": [],
   "source": []
  },
  {
   "cell_type": "code",
   "execution_count": 61,
   "id": "291fc41d",
   "metadata": {},
   "outputs": [
    {
     "name": "stdout",
     "output_type": "stream",
     "text": [
      "<class 'pandas.core.frame.DataFrame'>\n",
      "RangeIndex: 400 entries, 0 to 399\n",
      "Data columns (total 13 columns):\n",
      " #   Column                   Non-Null Count  Dtype   \n",
      "---  ------                   --------------  -----   \n",
      " 0   Person ID                400 non-null    int64   \n",
      " 1   Gender                   400 non-null    object  \n",
      " 2   Age                      400 non-null    int64   \n",
      " 3   Occupation               400 non-null    object  \n",
      " 4   Sleep Duration           400 non-null    float64 \n",
      " 5   Sleep Quality            400 non-null    float64 \n",
      " 6   Daily Physical Activity  400 non-null    int64   \n",
      " 7   Stress Level             400 non-null    int64   \n",
      " 8   BMI                      400 non-null    category\n",
      " 9   Blood Pressure           400 non-null    object  \n",
      " 10  Heart Rate               400 non-null    int64   \n",
      " 11  Daily Steps              400 non-null    int64   \n",
      " 12  Sleep Disorder           110 non-null    object  \n",
      "dtypes: category(1), float64(2), int64(6), object(4)\n",
      "memory usage: 38.2+ KB\n"
     ]
    },
    {
     "data": {
      "text/plain": [
       "Index(['Normal', 'Obese', 'Overweight', 'Underweight'], dtype='object')"
      ]
     },
     "execution_count": 61,
     "metadata": {},
     "output_type": "execute_result"
    }
   ],
   "source": [
    "# Change BMI into a categorical type\n",
    "df['BMI'] = df['BMI'].astype('category')\n",
    "df.info()\n",
    "df['BMI'].cat.categories"
   ]
  },
  {
   "cell_type": "markdown",
   "id": "bfa450f4",
   "metadata": {},
   "source": [
    "## TODO: Exploratory Data Analysis (EDA)"
   ]
  },
  {
   "cell_type": "markdown",
   "id": "e10ecf55",
   "metadata": {},
   "source": [
    "## TODO: Hypothesis Testing"
   ]
  },
  {
   "cell_type": "code",
   "execution_count": null,
   "id": "f2a14a9f",
   "metadata": {},
   "outputs": [],
   "source": []
  }
 ],
 "metadata": {
  "kernelspec": {
   "display_name": "Python 3 (ipykernel)",
   "language": "python",
   "name": "python3"
  },
  "language_info": {
   "codemirror_mode": {
    "name": "ipython",
    "version": 3
   },
   "file_extension": ".py",
   "mimetype": "text/x-python",
   "name": "python",
   "nbconvert_exporter": "python",
   "pygments_lexer": "ipython3",
   "version": "3.10.16"
  }
 },
 "nbformat": 4,
 "nbformat_minor": 5
}
